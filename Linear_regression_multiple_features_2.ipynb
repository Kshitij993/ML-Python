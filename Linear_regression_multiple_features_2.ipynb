{
 "cells": [
  {
   "cell_type": "code",
   "execution_count": 5,
   "metadata": {},
   "outputs": [
    {
     "name": "stdout",
     "output_type": "stream",
     "text": [
      "cofficient :- [[10.65782881  7.87476192  5.66468541  3.57425018]]\n",
      "intercept :- [65.76362413]\n",
      "mean absolute error:-   15.76829584205675\n",
      "residual sum square :-  510.79481630701173\n",
      "r2 score :-             0.8326351268707004\n",
      "variance score :-       0.8583371893945795\n"
     ]
    }
   ],
   "source": [
    "import pandas as pd\n",
    "import numpy as np\n",
    "import matplotlib.pyplot as plt\n",
    "import pylab as pl\n",
    "from sklearn import linear_model\n",
    "from sklearn.metrics import r2_score\n",
    "\n",
    "df = pd.read_csv(\"C:\\ML\\FuelConsumptionCo2.csv\")\n",
    "\n",
    "cdf=df[['ENGINESIZE','CYLINDERS','FUELCONSUMPTION_CITY','FUELCONSUMPTION_HWY','CO2EMISSIONS']]\n",
    "\n",
    "msk= np.random.rand(len(df))<0.8\n",
    "\n",
    "train= cdf[msk]\n",
    "test= cdf[~msk]\n",
    "\n",
    "train_x= np.asanyarray(train[['ENGINESIZE','CYLINDERS','FUELCONSUMPTION_CITY','FUELCONSUMPTION_HWY']])\n",
    "train_y= np.asanyarray(train[['CO2EMISSIONS']])\n",
    "\n",
    "regr=linear_model.LinearRegression()\n",
    "regr.fit(train_x,train_y)\n",
    "\n",
    "print('cofficient :-', regr.coef_)\n",
    "print('intercept :-',regr.intercept_)\n",
    "\n",
    "test_x= np.asanyarray(test[['ENGINESIZE','CYLINDERS','FUELCONSUMPTION_CITY','FUELCONSUMPTION_HWY']])\n",
    "test_y= np.asanyarray(test[['CO2EMISSIONS']])\n",
    "\n",
    "test_y_hat= regr.predict(test_x)\n",
    "\n",
    "print('mean absolute error:-  ',np.mean(np.absolute(test_y_hat-test_y)))\n",
    "        \n",
    "print('residual sum square :- ',np.mean((test_y_hat-test_y)**2))\n",
    "\n",
    "print('r2 score :-            ', r2_score(test_y_hat,test_y))\n",
    "\n",
    "print('variance score :-      ', regr.score(test_x,test_y))"
   ]
  },
  {
   "cell_type": "code",
   "execution_count": null,
   "metadata": {},
   "outputs": [],
   "source": []
  }
 ],
 "metadata": {
  "kernelspec": {
   "display_name": "Python 3 (ipykernel)",
   "language": "python",
   "name": "python3"
  },
  "language_info": {
   "codemirror_mode": {
    "name": "ipython",
    "version": 3
   },
   "file_extension": ".py",
   "mimetype": "text/x-python",
   "name": "python",
   "nbconvert_exporter": "python",
   "pygments_lexer": "ipython3",
   "version": "3.9.7"
  }
 },
 "nbformat": 4,
 "nbformat_minor": 2
}
