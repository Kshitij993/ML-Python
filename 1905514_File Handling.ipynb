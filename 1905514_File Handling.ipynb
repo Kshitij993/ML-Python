{
 "cells": [
  {
   "cell_type": "markdown",
   "id": "4642e9dd",
   "metadata": {},
   "source": [
    "# Lab 5:  File Handling  09/02/2022  \n",
    "Name: Kshitij Kumar Sharma  Roll no: 1905514"
   ]
  },
  {
   "cell_type": "code",
   "execution_count": 44,
   "id": "9f292a1b",
   "metadata": {},
   "outputs": [
    {
     "name": "stdout",
     "output_type": "stream",
     "text": [
      "Small\n",
      "super\n"
     ]
    }
   ],
   "source": [
    "f=open(\"kks.txt\",\"w+\")\n",
    "f.write(\"hello how are you \\n\")\n",
    "f.write(\"Small super conductor\")\n",
    "f.seek(0)\n",
    "\n",
    "for lines in f.readlines():\n",
    "    for word in lines.split():\n",
    "        if(word[0]=='S'or word[0]=='s'):\n",
    "            print(word)\n"
   ]
  },
  {
   "cell_type": "code",
   "execution_count": 46,
   "id": "be376215",
   "metadata": {},
   "outputs": [
    {
     "name": "stdout",
     "output_type": "stream",
     "text": [
      "3\n"
     ]
    }
   ],
   "source": [
    "f=open(\"kks.txt\",\"w+\")\n",
    "f.write(\"The book was nice \\n\")\n",
    "f.write(\"the is sun is very far from the earth\")\n",
    "f.seek(0)\n",
    "c=0\n",
    "for lines in f.readlines():\n",
    "    for word in lines.split():\n",
    "        if word==\"The\" or word==\"the\":\n",
    "            c+=1\n",
    "print(c)"
   ]
  },
  {
   "cell_type": "code",
   "execution_count": 49,
   "id": "613e79a3",
   "metadata": {},
   "outputs": [
    {
     "name": "stdout",
     "output_type": "stream",
     "text": [
      "56 Bytes\n"
     ]
    }
   ],
   "source": [
    "import os\n",
    "print(os.path.getsize(\"kks.txt\"),\"Bytes\")"
   ]
  },
  {
   "cell_type": "code",
   "execution_count": 51,
   "id": "7a4614f8",
   "metadata": {},
   "outputs": [
    {
     "name": "stdout",
     "output_type": "stream",
     "text": [
      "6\n"
     ]
    }
   ],
   "source": [
    "f=open(\"kks.txt\",\"w+\")\n",
    "f.write(\"The book was nice \\n\")\n",
    "f.seek(0)\n",
    "c=0\n",
    "for i in f.read():\n",
    "    if i in \"AEIOUaeiou\":\n",
    "        c+=1\n",
    "print(c)"
   ]
  },
  {
   "cell_type": "code",
   "execution_count": 57,
   "id": "cb11e533",
   "metadata": {},
   "outputs": [
    {
     "name": "stdout",
     "output_type": "stream",
     "text": [
      "The book was nice \n",
      "\n"
     ]
    }
   ],
   "source": [
    "def remove_lowercase(fl1,fl2):\n",
    "    f1=open(fl1,\"r\")\n",
    "    f2=open(fl2,\"w+\")\n",
    "    for lines in f1.readlines():\n",
    "        if lines[0].isupper():\n",
    "            print(lines)\n",
    "            f2.write(lines)\n",
    "f=open(\"kks.txt\",\"w\")\n",
    "f.write(\"The book was nice \\n\")\n",
    "f.write(\"the is sun is very far from the earth\")\n",
    "f.close()\n",
    "remove_lowercase(\"kks.txt\",\"test.txt\")"
   ]
  }
 ],
 "metadata": {
  "kernelspec": {
   "display_name": "Python 3 (ipykernel)",
   "language": "python",
   "name": "python3"
  },
  "language_info": {
   "codemirror_mode": {
    "name": "ipython",
    "version": 3
   },
   "file_extension": ".py",
   "mimetype": "text/x-python",
   "name": "python",
   "nbconvert_exporter": "python",
   "pygments_lexer": "ipython3",
   "version": "3.9.7"
  }
 },
 "nbformat": 4,
 "nbformat_minor": 5
}
